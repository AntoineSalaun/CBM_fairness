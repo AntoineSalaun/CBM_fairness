{
 "cells": [
  {
   "cell_type": "code",
   "execution_count": 1,
   "id": "a42562e9-81c8-40be-bac1-dc6169d4ac16",
   "metadata": {},
   "outputs": [],
   "source": [
    "import sys\n",
    "from pathlib import Path\n",
    "import os \n",
    "sys.path.append('/home/gridsan/vyuan/.local/lib/python3.9/site-packages/')\n",
    "\n",
    "current_path = Path.cwd()\n",
    "\n",
    "# Go to top of the root and append\n",
    "root = current_path.parents[1]\n",
    "sys.path.append(str(root))\n",
    "\n",
    "os.chdir(root)"
   ]
  },
  {
   "cell_type": "markdown",
   "id": "63ebdb73-5835-42d1-90e7-1f9c779e87d5",
   "metadata": {},
   "source": [
    "## Imports"
   ]
  },
  {
   "cell_type": "code",
   "execution_count": 2,
   "id": "0812a54f-910f-4dc2-9caa-3a0f03c8222b",
   "metadata": {},
   "outputs": [],
   "source": [
    "import torch\n",
    "from pathlib import Path\n",
    "import torch.nn.functional as F\n"
   ]
  },
  {
   "cell_type": "code",
   "execution_count": 3,
   "id": "3fd9b869-4a34-4afe-aad9-d76d4e57b131",
   "metadata": {},
   "outputs": [],
   "source": [
    "balanced = Path('saved_models/imSitu/200_verbs/CBM/gender/ic_0.3_lam_0.0007_cc_0.2/balanced/imSitu_200_balanced_imSitu_200_gender')\n",
    "imbalanced_1 = Path('saved_models/imSitu/200_verbs/CBM/gender/ic_0.3_lam_0.0007_cc_0.2/imbalanced_1/imSitu_200_imbalanced_1_imSitu_200_wc')\n",
    "imbalanced_2 = Path('saved_models/imSitu/200_verbs/CBM/gender/ic_0.3_lam_0.0007_cc_0.2/imbalanced_2/imSitu_200_imbalanced_2_imSitu_200_wc')\n",
    "male = Path('saved_models/imSitu/200_verbs/CBM/gender/ic_0.3_lam_0.0007_cc_0.2/male/imSitu_200_male_imSitu_200_wc')\n",
    "female = Path('saved_models/imSitu/200_verbs/CBM/gender/ic_0.3_lam_0.0007_cc_0.2/female/imSitu_200_female_imSitu_200_wc')"
   ]
  },
  {
   "cell_type": "code",
   "execution_count": 4,
   "id": "93628bac-5de0-48e1-b191-7d07ca107867",
   "metadata": {},
   "outputs": [],
   "source": [
    "W_c_b = torch.load(balanced / 'W_c.pt', map_location='cpu')\n",
    "W_c_b = W_c_b.to('cuda')\n",
    "\n",
    "W_c_ib1 = torch.load(imbalanced_1 / 'W_c.pt', map_location='cpu')\n",
    "W_c_ib1 = W_c_ib1.to('cuda')\n",
    "\n",
    "W_c_ib2 = torch.load(imbalanced_2 / 'W_c.pt', map_location='cpu')\n",
    "W_c_ib2 = W_c_ib2.to('cuda')\n",
    "\n",
    "W_c_male = torch.load(male / 'W_c.pt', map_location='cpu')\n",
    "W_c_male = W_c_male.to('cuda')\n",
    "\n",
    "W_c_female = torch.load(female / 'W_c.pt', map_location='cpu')\n",
    "W_c_female = W_c_female.to('cuda')"
   ]
  },
  {
   "cell_type": "code",
   "execution_count": 5,
   "id": "9e50e9b7-abe4-46b4-96c1-0e01f9d1712d",
   "metadata": {},
   "outputs": [],
   "source": [
    "def cosine_similarity(layer_a, layer_b):\n",
    "    # Flatten the weight matrices\n",
    "    vector_a = layer_a.flatten()\n",
    "    vector_b = layer_b.flatten()\n",
    "\n",
    "    # Compute and return cosine similarity\n",
    "    return F.cosine_similarity(vector_a.unsqueeze(0), vector_b.unsqueeze(0))\n"
   ]
  },
  {
   "cell_type": "code",
   "execution_count": 8,
   "id": "282e2ec5-2f41-4fe6-9d35-f92edbc7f067",
   "metadata": {},
   "outputs": [],
   "source": [
    "cosine_b_ib1 = cosine_similarity(W_c_b, W_c_ib1)\n",
    "cosine_b_ib2 = cosine_similarity(W_c_b, W_c_ib2)\n",
    "cosine_b_m = cosine_similarity(W_c_b, W_c_male)\n",
    "cosine_b_f = cosine_similarity(W_c_b, W_c_female)"
   ]
  },
  {
   "cell_type": "code",
   "execution_count": 9,
   "id": "c0d8f44c-c275-4517-abd0-345037d2b0e0",
   "metadata": {},
   "outputs": [
    {
     "name": "stdout",
     "output_type": "stream",
     "text": [
      "tensor([0.3570], device='cuda:0', grad_fn=<DivBackward0>)\n",
      "tensor([0.3708], device='cuda:0', grad_fn=<DivBackward0>)\n",
      "tensor([0.3573], device='cuda:0', grad_fn=<DivBackward0>)\n",
      "tensor([0.3560], device='cuda:0', grad_fn=<DivBackward0>)\n"
     ]
    }
   ],
   "source": [
    "print(cosine_b_ib1)\n",
    "print(cosine_b_ib2)\n",
    "print(cosine_b_m)\n",
    "print(cosine_b_f)"
   ]
  },
  {
   "cell_type": "code",
   "execution_count": 12,
   "id": "abf3d90a-542d-4223-9b07-3adf40a2b70e",
   "metadata": {},
   "outputs": [],
   "source": [
    "cosine_ib1_ib2 = cosine_similarity(W_c_ib1, W_c_ib2)\n",
    "cosine_ib1_m = cosine_similarity(W_c_ib1, W_c_male)\n",
    "cosine_ib1_f = cosine_similarity(W_c_ib1, W_c_female)"
   ]
  },
  {
   "cell_type": "code",
   "execution_count": 13,
   "id": "e4fbdb96-c712-494e-a6e4-62bdb0a7a7f4",
   "metadata": {},
   "outputs": [
    {
     "name": "stdout",
     "output_type": "stream",
     "text": [
      "tensor([0.1500], device='cuda:0', grad_fn=<DivBackward0>)\n",
      "tensor([0.3592], device='cuda:0', grad_fn=<DivBackward0>)\n",
      "tensor([0.3422], device='cuda:0', grad_fn=<DivBackward0>)\n"
     ]
    }
   ],
   "source": [
    "print(cosine_ib1_ib2)\n",
    "print(cosine_ib1_m)\n",
    "print(cosine_ib1_f)"
   ]
  },
  {
   "cell_type": "code",
   "execution_count": 14,
   "id": "b59d30cf-bf01-4118-9431-bfd29c1ef828",
   "metadata": {},
   "outputs": [],
   "source": [
    "cosine_ib2_m = cosine_similarity(W_c_ib2, W_c_male)\n",
    "cosine_ib2_f = cosine_similarity(W_c_ib2, W_c_female)"
   ]
  },
  {
   "cell_type": "code",
   "execution_count": 15,
   "id": "c3b03d56-fd72-4b3c-86a5-d82acb5bb071",
   "metadata": {},
   "outputs": [
    {
     "name": "stdout",
     "output_type": "stream",
     "text": [
      "tensor([0.3556], device='cuda:0', grad_fn=<DivBackward0>)\n",
      "tensor([0.3570], device='cuda:0', grad_fn=<DivBackward0>)\n"
     ]
    }
   ],
   "source": [
    "print(cosine_ib2_m)\n",
    "print(cosine_ib2_f)"
   ]
  },
  {
   "cell_type": "code",
   "execution_count": 16,
   "id": "75c5c692-d80d-459c-b5d0-757978d4868c",
   "metadata": {},
   "outputs": [],
   "source": [
    "cosine_m_f = cosine_similarity(W_c_male, W_c_female)"
   ]
  },
  {
   "cell_type": "code",
   "execution_count": 17,
   "id": "366f3d9d-a26c-44a5-a801-eb131b957aa2",
   "metadata": {},
   "outputs": [
    {
     "name": "stdout",
     "output_type": "stream",
     "text": [
      "tensor([0.4059], device='cuda:0', grad_fn=<DivBackward0>)\n"
     ]
    }
   ],
   "source": [
    "print(cosine_m_f)"
   ]
  },
  {
   "cell_type": "code",
   "execution_count": null,
   "id": "fd9ac7d6-776a-4590-9ae1-6ae566896812",
   "metadata": {},
   "outputs": [],
   "source": []
  }
 ],
 "metadata": {
  "kernelspec": {
   "display_name": "Python 3 (ipykernel)",
   "language": "python",
   "name": "python3"
  },
  "language_info": {
   "codemirror_mode": {
    "name": "ipython",
    "version": 3
   },
   "file_extension": ".py",
   "mimetype": "text/x-python",
   "name": "python",
   "nbconvert_exporter": "python",
   "pygments_lexer": "ipython3",
   "version": "3.9.15"
  }
 },
 "nbformat": 4,
 "nbformat_minor": 5
}
