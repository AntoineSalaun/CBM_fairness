{
 "cells": [
  {
   "cell_type": "code",
   "execution_count": 1,
   "id": "ad5df62a-5234-486b-8066-0d3782036fdf",
   "metadata": {},
   "outputs": [],
   "source": [
    "import sys\n",
    "from pathlib import Path\n",
    "import os \n",
    "sys.path.append('/home/gridsan/vyuan/.local/lib/python3.9/site-packages/')\n",
    "\n",
    "current_path = Path.cwd()\n",
    "\n",
    "# Go to top of the root and append\n",
    "root = current_path.parents[1]\n",
    "sys.path.append(str(root))\n",
    "\n",
    "os.chdir(root)"
   ]
  },
  {
   "cell_type": "code",
   "execution_count": 2,
   "id": "38ae6a4a-1f18-498d-a1b4-4a867ed2df0a",
   "metadata": {},
   "outputs": [],
   "source": [
    "import pandas as pd\n",
    "import math"
   ]
  },
  {
   "cell_type": "code",
   "execution_count": 3,
   "id": "073dce02-b175-48ea-b75f-8d67220a23d7",
   "metadata": {},
   "outputs": [
    {
     "name": "stdout",
     "output_type": "stream",
     "text": [
      "Defaulting to user installation because normal site-packages is not writeable\n",
      "Looking in indexes: https://pypi.org/simple, https://pypi.ngc.nvidia.com\n",
      "Requirement already satisfied: openpyxl in /home/gridsan/vyuan/.local/lib/python3.9/site-packages (3.1.2)\n",
      "Requirement already satisfied: et-xmlfile in /home/gridsan/vyuan/.local/lib/python3.9/site-packages (from openpyxl) (1.1.0)\n",
      "\u001b[33mWARNING: There was an error checking the latest version of pip.\u001b[0m\u001b[33m\n",
      "\u001b[0m"
     ]
    }
   ],
   "source": [
    "!pip install openpyxl"
   ]
  },
  {
   "cell_type": "code",
   "execution_count": 4,
   "id": "cd8eb83d",
   "metadata": {},
   "outputs": [],
   "source": [
    "import openpyxl"
   ]
  },
  {
   "cell_type": "markdown",
   "id": "52e0fa17-2f52-430c-8005-0ae936909eb0",
   "metadata": {},
   "source": [
    "# 200 verbs bias experiment"
   ]
  },
  {
   "cell_type": "code",
   "execution_count": 5,
   "id": "bc909af2-2307-423e-9569-acf1dbcb89e2",
   "metadata": {},
   "outputs": [],
   "source": [
    "path_dict = {\n",
    "    'Baseline Full': 'results/imSitu/200_verbs_full/grid_search/baseline/lr_0.001_momentum_0.8_step_5_gamma_0.1/accuracies_by_group.csv',\n",
    "    'CBM Full': 'results/imSitu/200_verbs_full/grid_search/CBM/ic0.3_lam0.0007_cc0_no_gender/accuracies_by_group.csv', \n",
    "    'CBM Full Gender': 'results/imSitu/200_verbs_full/CBM/gender/ic0_lam_0.0007_cc0/accuracies_by_group.csv',\n",
    "    'CheatBM Full': 'results/imSitu/cheatBM/200_verbs_full/accuracies_by_group.csv',\n",
    "    'Baseline Balanced': 'results/imSitu/200_verbs/grid_search/baseline/lr_0.001_momentum_0.8_step_5_gamma_0.1/balanced/accuracies_by_group.csv',\n",
    "    'Baseline Male A': 'results/imSitu/200_verbs/grid_search/baseline/lr_0.001_momentum_0.8_step_5_gamma_0.1/imbalanced_1/accuracies_by_group.csv',\n",
    "    'Baseline Female A': 'results/imSitu/200_verbs/grid_search/baseline/lr_0.001_momentum_0.8_step_5_gamma_0.1/imbalanced_2/accuracies_by_group.csv',\n",
    "    'CBM Balanced': 'results/imSitu/200_verbs/grid_search/CBM/no_gender/ic0_lam0.0007_cc0/balanced/accuracies_by_group.csv',\n",
    "    'CBM Male A': 'results/imSitu/200_verbs/grid_search/CBM/no_gender/ic0_lam0.0007_cc0/imbalanced_1/accuracies_by_group.csv',\n",
    "    'CBM Female A': 'results/imSitu/200_verbs/grid_search/CBM/no_gender/ic0.3_lam0.0007_cc0/imbalanced_2/accuracies_by_group.csv',\n",
    "    'CBM Balanced Gender': 'results/imSitu/200_verbs/grid_search/CBM/gender/ic0.3_lam0.0007_cc0/balanced/accuracies_by_group.csv',\n",
    "    'CBM Male A Gender': 'results/imSitu/200_verbs/grid_search/CBM/gender/ic0_lam0.0007_cc0/imbalanced_1/accuracies_by_group.csv',\n",
    "    'CBM Female A Gender': 'results/imSitu/200_verbs/grid_search/CBM/gender/ic0.3_lam0.0007_cc0/imbalanced_2/accuracies_by_group.csv',\n",
    "    'CheatBM Balanced': 'results/imSitu/cheatBM/200_verbs_balanced/accuracies_by_group.csv',\n",
    "    'CheatBM Male A': 'results/imSitu/cheatBM/200_verbs_imbalanced_1/accuracies_by_group.csv',\n",
    "    'CheatBM Female A': 'results/imSitu/cheatBM/200_verbs_imbalanced_2/accuracies_by_group.csv',\n",
    "}"
   ]
  },
  {
   "cell_type": "code",
   "execution_count": 6,
   "id": "71148038-932a-4f7f-8dda-1884cc927b00",
   "metadata": {},
   "outputs": [],
   "source": [
    "path_dict_last_layer = {\n",
    "    'Baseline': 'results/imSitu/custom/CBM_imSitu_200_full/imSitu_200_balanced/accuracies_by_group.csv', \n",
    "    'Male': 'results/imSitu/custom/CBM_imSitu_200_full/imSitu_200_male/accuracies_by_group.csv',\n",
    "    'Female': 'results/imSitu/custom/CBM_imSitu_200_full/imSitu_200_female/accuracies_by_group.csv',\n",
    "    'Male-A': 'results/imSitu/custom/CBM_imSitu_200_full/imSitu_200_imbalanced_1/accuracies_by_group.csv',\n",
    "    'Female-A': 'results/imSitu/custom/CBM_imSitu_200_full/imSitu_200_imbalanced_2/accuracies_by_group.csv',\n",
    "}"
   ]
  },
  {
   "cell_type": "code",
   "execution_count": 7,
   "id": "84bf9e01-222c-422a-b3f2-f67f5b82fdf8",
   "metadata": {},
   "outputs": [],
   "source": [
    "result_dict = {}\n",
    "\n",
    "for name, path in path_dict.items():\n",
    "    result_dict[name] = pd.read_csv(path, index_col=0)"
   ]
  },
  {
   "cell_type": "code",
   "execution_count": 26,
   "id": "50e9a000-f089-4f65-b6e0-60e82ae913e1",
   "metadata": {},
   "outputs": [
    {
     "data": {
      "text/plain": [
       "3.135"
      ]
     },
     "execution_count": 26,
     "metadata": {},
     "output_type": "execute_result"
    }
   ],
   "source": [
    "(1.44 + 4.83) / 2"
   ]
  },
  {
   "cell_type": "code",
   "execution_count": 25,
   "id": "e43a8886-a4b3-4ac5-bf3a-5b0d7dcf8aef",
   "metadata": {},
   "outputs": [
    {
     "name": "stdout",
     "output_type": "stream",
     "text": [
      "Baseline Full\n",
      "          accuracy  correct   count  Accuracy Parity Accuracy Parity Class\n",
      "male_1    0.329504    631.0  1915.0              NaN                   NaN\n",
      "male_2    0.278406    468.0  1681.0              NaN                   NaN\n",
      "female_1  0.315129    502.0  1593.0              NaN                   NaN\n",
      "female_2  0.326667    490.0  1500.0              NaN                   NaN\n",
      "male      0.305617   1099.0  3596.0              NaN                   NaN\n",
      "female    0.320724    992.0  3093.0              NaN                   NaN\n",
      "Group 1   0.322976   1133.0  3508.0         0.014375                  male\n",
      "Group 2   0.301163    958.0  3181.0         0.048261                female\n",
      "Total     0.312603   2091.0  6689.0         0.015107                female\n",
      "CBM Full\n",
      "          accuracy  correct   count  Accuracy Parity Accuracy Parity Class\n",
      "male_1    0.327415    627.0  1915.0              NaN                   NaN\n",
      "male_2    0.274836    462.0  1681.0              NaN                   NaN\n",
      "female_1  0.336472    536.0  1593.0              NaN                   NaN\n",
      "female_2  0.326667    490.0  1500.0              NaN                   NaN\n",
      "male      0.302836   1089.0  3596.0              NaN                   NaN\n",
      "female    0.331717   1026.0  3093.0              NaN                   NaN\n",
      "Group 1   0.331528   1163.0  3508.0         0.009057                female\n",
      "Group 2   0.299277    952.0  3181.0         0.051830                female\n",
      "Total     0.316191   2115.0  6689.0         0.028880                female\n",
      "CBM Full Gender\n",
      "          accuracy  correct   count  Accuracy Parity Accuracy Parity Class\n",
      "male_1    0.330548    633.0  1915.0              NaN                   NaN\n",
      "male_2    0.277811    467.0  1681.0              NaN                   NaN\n",
      "female_1  0.335217    534.0  1593.0              NaN                   NaN\n",
      "female_2  0.329333    494.0  1500.0              NaN                   NaN\n",
      "male      0.305895   1100.0  3596.0              NaN                   NaN\n",
      "female    0.332363   1028.0  3093.0              NaN                   NaN\n",
      "Group 1   0.332668   1167.0  3508.0         0.004668                female\n",
      "Group 2   0.302106    961.0  3181.0         0.051523                female\n",
      "Total     0.318134   2128.0  6689.0         0.026468                female\n",
      "CheatBM Full\n",
      "          accuracy  correct   count  Accuracy Parity Accuracy Parity Class\n",
      "male_1    0.340992    653.0  1915.0              NaN                   NaN\n",
      "male_2    0.276026    464.0  1681.0              NaN                   NaN\n",
      "female_1  0.344633    549.0  1593.0              NaN                   NaN\n",
      "female_2  0.330667    496.0  1500.0              NaN                   NaN\n",
      "male      0.310623   1117.0  3596.0              NaN                   NaN\n",
      "female    0.337860   1045.0  3093.0              NaN                   NaN\n",
      "Group 1   0.342645   1202.0  3508.0         0.003641                female\n",
      "Group 2   0.301792    960.0  3181.0         0.054640                female\n",
      "Total     0.323217   2162.0  6689.0         0.027237                female\n",
      "Baseline Balanced\n",
      "          accuracy  correct   count  Accuracy Parity Accuracy Parity Class\n",
      "male_1    0.270896    363.0  1340.0              NaN                   NaN\n",
      "male_2    0.264349    327.0  1237.0              NaN                   NaN\n",
      "female_1  0.266617    357.0  1339.0              NaN                   NaN\n",
      "female_2  0.259499    321.0  1237.0              NaN                   NaN\n",
      "male      0.267753    690.0  2577.0              NaN                   NaN\n",
      "female    0.263199    678.0  2576.0              NaN                   NaN\n",
      "Group 1   0.268757    720.0  2679.0         0.004279                  male\n",
      "Group 2   0.261924    648.0  2474.0         0.004850                  male\n",
      "Total     0.265476   1368.0  5153.0         0.004554                  male\n",
      "Baseline Male A\n",
      "          accuracy  correct   count  Accuracy Parity Accuracy Parity Class\n",
      "male_1    0.314925    422.0  1340.0              NaN                   NaN\n",
      "male_2    0.163298    202.0  1237.0              NaN                   NaN\n",
      "female_1  0.179238    240.0  1339.0              NaN                   NaN\n",
      "female_2  0.312045    386.0  1237.0              NaN                   NaN\n",
      "male      0.242142    624.0  2577.0              NaN                   NaN\n",
      "female    0.243012    626.0  2576.0              NaN                   NaN\n",
      "Group 1   0.247107    662.0  2679.0         0.135687                  male\n",
      "Group 2   0.237672    588.0  2474.0         0.148747                female\n",
      "Total     0.242577   1250.0  5153.0         0.000870                female\n",
      "Baseline Female A\n",
      "          accuracy  correct   count  Accuracy Parity Accuracy Parity Class\n",
      "male_1    0.170896    229.0  1340.0              NaN                   NaN\n",
      "male_2    0.308003    381.0  1237.0              NaN                   NaN\n",
      "female_1  0.290515    389.0  1339.0              NaN                   NaN\n",
      "female_2  0.158448    196.0  1237.0              NaN                   NaN\n",
      "male      0.236709    610.0  2577.0              NaN                   NaN\n",
      "female    0.227096    585.0  2576.0              NaN                   NaN\n",
      "Group 1   0.230683    618.0  2679.0         0.119620                female\n",
      "Group 2   0.233226    577.0  2474.0         0.149555                  male\n",
      "Total     0.231904   1195.0  5153.0         0.009613                  male\n",
      "CBM Balanced\n",
      "          accuracy  correct   count  Accuracy Parity Accuracy Parity Class\n",
      "male_1    0.281343    377.0  1340.0              NaN                   NaN\n",
      "male_2    0.274859    340.0  1237.0              NaN                   NaN\n",
      "female_1  0.274085    367.0  1339.0              NaN                   NaN\n",
      "female_2  0.270008    334.0  1237.0              NaN                   NaN\n",
      "male      0.278231    717.0  2577.0              NaN                   NaN\n",
      "female    0.272127    701.0  2576.0              NaN                   NaN\n",
      "Group 1   0.277716    744.0  2679.0         0.007258                  male\n",
      "Group 2   0.272433    674.0  2474.0         0.004850                  male\n",
      "Total     0.275180   1418.0  5153.0         0.006103                  male\n",
      "CBM Male A\n",
      "          accuracy  correct   count  Accuracy Parity Accuracy Parity Class\n",
      "male_1    0.315672    423.0  1340.0              NaN                   NaN\n",
      "male_2    0.182700    226.0  1237.0              NaN                   NaN\n",
      "female_1  0.192681    258.0  1339.0              NaN                   NaN\n",
      "female_2  0.324980    402.0  1237.0              NaN                   NaN\n",
      "male      0.251843    649.0  2577.0              NaN                   NaN\n",
      "female    0.256211    660.0  2576.0              NaN                   NaN\n",
      "Group 1   0.254199    681.0  2679.0         0.122991                  male\n",
      "Group 2   0.253840    628.0  2474.0         0.142280                female\n",
      "Total     0.254027   1309.0  5153.0         0.004368                female\n",
      "CBM Female A\n",
      "          accuracy  correct   count  Accuracy Parity Accuracy Parity Class\n",
      "male_1    0.203731    273.0  1340.0              NaN                   NaN\n",
      "male_2    0.304770    377.0  1237.0              NaN                   NaN\n",
      "female_1  0.307692    412.0  1339.0              NaN                   NaN\n",
      "female_2  0.167340    207.0  1237.0              NaN                   NaN\n",
      "male      0.252231    650.0  2577.0              NaN                   NaN\n",
      "female    0.240295    619.0  2576.0              NaN                   NaN\n",
      "Group 1   0.255692    685.0  2679.0         0.103961                female\n",
      "Group 2   0.236055    584.0  2474.0         0.137429                  male\n",
      "Total     0.246264   1269.0  5153.0         0.011936                  male\n",
      "CBM Balanced Gender\n",
      "          accuracy  correct   count  Accuracy Parity Accuracy Parity Class\n",
      "male_1    0.278358    373.0  1340.0              NaN                   NaN\n",
      "male_2    0.276475    342.0  1237.0              NaN                   NaN\n",
      "female_1  0.278566    373.0  1339.0              NaN                   NaN\n",
      "female_2  0.271625    336.0  1237.0              NaN                   NaN\n",
      "male      0.277454    715.0  2577.0              NaN                   NaN\n",
      "female    0.275233    709.0  2576.0              NaN                   NaN\n",
      "Group 1   0.278462    746.0  2679.0         0.000208                female\n",
      "Group 2   0.274050    678.0  2474.0         0.004850                  male\n",
      "Total     0.276344   1424.0  5153.0         0.002221                  male\n",
      "CBM Male A Gender\n",
      "          accuracy  correct   count  Accuracy Parity Accuracy Parity Class\n",
      "male_1    0.315672    423.0  1340.0              NaN                   NaN\n",
      "male_2    0.180275    223.0  1237.0              NaN                   NaN\n",
      "female_1  0.192681    258.0  1339.0              NaN                   NaN\n",
      "female_2  0.326597    404.0  1237.0              NaN                   NaN\n",
      "male      0.250679    646.0  2577.0              NaN                   NaN\n",
      "female    0.256988    662.0  2576.0              NaN                   NaN\n",
      "Group 1   0.254199    681.0  2679.0         0.122991                  male\n",
      "Group 2   0.253436    627.0  2474.0         0.146322                female\n",
      "Total     0.253833   1308.0  5153.0         0.006308                female\n",
      "CBM Female A Gender\n",
      "          accuracy  correct   count  Accuracy Parity Accuracy Parity Class\n",
      "male_1    0.202239    271.0  1340.0              NaN                   NaN\n",
      "male_2    0.307195    380.0  1237.0              NaN                   NaN\n",
      "female_1  0.308439    413.0  1339.0              NaN                   NaN\n",
      "female_2  0.167340    207.0  1237.0              NaN                   NaN\n",
      "male      0.252619    651.0  2577.0              NaN                   NaN\n",
      "female    0.240683    620.0  2576.0              NaN                   NaN\n",
      "Group 1   0.255319    684.0  2679.0         0.106200                female\n",
      "Group 2   0.237268    587.0  2474.0         0.139854                  male\n",
      "Total     0.246652   1271.0  5153.0         0.011936                  male\n",
      "CheatBM Balanced\n",
      "          accuracy  correct   count  Accuracy Parity Accuracy Parity Class\n",
      "male_1    0.283582    380.0  1340.0              NaN                   NaN\n",
      "male_2    0.278092    344.0  1237.0              NaN                   NaN\n",
      "female_1  0.279313    374.0  1339.0              NaN                   NaN\n",
      "female_2  0.273242    338.0  1237.0              NaN                   NaN\n",
      "male      0.280947    724.0  2577.0              NaN                   NaN\n",
      "female    0.276398    712.0  2576.0              NaN                   NaN\n",
      "Group 1   0.281448    754.0  2679.0         0.004269                  male\n",
      "Group 2   0.275667    682.0  2474.0         0.004850                  male\n",
      "Total     0.278673   1436.0  5153.0         0.004549                  male\n",
      "CheatBM Male A\n",
      "          accuracy  correct   count  Accuracy Parity Accuracy Parity Class\n",
      "male_1    0.302239    405.0  1340.0              NaN                   NaN\n",
      "male_2    0.185125    229.0  1237.0              NaN                   NaN\n",
      "female_1  0.182226    244.0  1339.0              NaN                   NaN\n",
      "female_2  0.329830    408.0  1237.0              NaN                   NaN\n",
      "male      0.246023    634.0  2577.0              NaN                   NaN\n",
      "female    0.253106    652.0  2576.0              NaN                   NaN\n",
      "Group 1   0.242255    649.0  2679.0         0.120013                  male\n",
      "Group 2   0.257478    637.0  2474.0         0.144705                female\n",
      "Total     0.249563   1286.0  5153.0         0.007083                female\n",
      "CheatBM Female A\n",
      "          accuracy  correct   count  Accuracy Parity Accuracy Parity Class\n",
      "male_1    0.200746    269.0  1340.0              NaN                   NaN\n",
      "male_2    0.316087    391.0  1237.0              NaN                   NaN\n",
      "female_1  0.303958    407.0  1339.0              NaN                   NaN\n",
      "female_2  0.164107    203.0  1237.0              NaN                   NaN\n",
      "male      0.256112    660.0  2577.0              NaN                   NaN\n",
      "female    0.236801    610.0  2576.0              NaN                   NaN\n",
      "Group 1   0.252333    676.0  2679.0         0.103212                female\n",
      "Group 2   0.240097    594.0  2474.0         0.151981                  male\n",
      "Total     0.246458   1270.0  5153.0         0.019311                  male\n"
     ]
    }
   ],
   "source": [
    "for key, value in result_dict.items():\n",
    "    print(key)\n",
    "    print(value)\n"
   ]
  },
  {
   "cell_type": "code",
   "execution_count": 19,
   "id": "fd9319a2-e431-401d-ba3c-ce3e8796211a",
   "metadata": {},
   "outputs": [
    {
     "data": {
      "text/plain": [
       "0.3315279361459521"
      ]
     },
     "execution_count": 19,
     "metadata": {},
     "output_type": "execute_result"
    }
   ],
   "source": [
    "results = result\n",
    "(results.loc['male_1', 'correct'] + results.loc['female_1', 'correct']) / (results.loc['male_1', 'count'] + results.loc['female_1', 'count'])"
   ]
  },
  {
   "cell_type": "markdown",
   "id": "e2600676-c080-4b68-8c42-03997cd2f150",
   "metadata": {},
   "source": [
    "## CheatBM"
   ]
  },
  {
   "cell_type": "code",
   "execution_count": 76,
   "id": "a51153d8-5116-466c-bc87-de0d2de8bb7f",
   "metadata": {},
   "outputs": [],
   "source": [
    "import json\n",
    "original = json.load(open('data/datasets/imSitu/data/200_verbs_full/target_concepts_retained.json'))"
   ]
  },
  {
   "cell_type": "code",
   "execution_count": 79,
   "id": "5dc62463-7017-428e-af07-067f2cb1969a",
   "metadata": {},
   "outputs": [],
   "source": [
    "results = []\n",
    "\n",
    "for verb, concepts in original.items():\n",
    "    results += concepts"
   ]
  },
  {
   "cell_type": "code",
   "execution_count": 9,
   "id": "e2c66760-54e2-46a7-b251-013372f89777",
   "metadata": {},
   "outputs": [
    {
     "ename": "ValueError",
     "evalue": "No objects to concatenate",
     "output_type": "error",
     "traceback": [
      "\u001b[0;31m---------------------------------------------------------------------------\u001b[0m",
      "\u001b[0;31mValueError\u001b[0m                                Traceback (most recent call last)",
      "Cell \u001b[0;32mIn[9], line 33\u001b[0m\n\u001b[1;32m     21\u001b[0m             result_temp_df \u001b[38;5;241m=\u001b[39m pd\u001b[38;5;241m.\u001b[39mDataFrame({\u001b[38;5;124m'\u001b[39m\u001b[38;5;124mExperiment\u001b[39m\u001b[38;5;124m'\u001b[39m: [name_df], \n\u001b[1;32m     22\u001b[0m                               \u001b[38;5;124m'\u001b[39m\u001b[38;5;124mAverage Accuracy\u001b[39m\u001b[38;5;124m'\u001b[39m: [average_accuracy],\n\u001b[1;32m     23\u001b[0m                               \u001b[38;5;124m'\u001b[39m\u001b[38;5;124mAverage Accuracy 1\u001b[39m\u001b[38;5;124m'\u001b[39m: [average_accuracy_1],\n\u001b[0;32m   (...)\u001b[0m\n\u001b[1;32m     28\u001b[0m                               \u001b[38;5;124m'\u001b[39m\u001b[38;5;124mHighest accuracy 2\u001b[39m\u001b[38;5;124m'\u001b[39m: [highest_accuracy_2],\n\u001b[1;32m     29\u001b[0m                              })\n\u001b[1;32m     31\u001b[0m             results_temp\u001b[38;5;241m.\u001b[39mappend(result_temp_df)\n\u001b[0;32m---> 33\u001b[0m final_temp_df \u001b[38;5;241m=\u001b[39m \u001b[43mpd\u001b[49m\u001b[38;5;241;43m.\u001b[39;49m\u001b[43mconcat\u001b[49m\u001b[43m(\u001b[49m\u001b[43mresults_temp\u001b[49m\u001b[43m)\u001b[49m\u001b[38;5;241m.\u001b[39mset_index(\u001b[38;5;124m'\u001b[39m\u001b[38;5;124mExperiment\u001b[39m\u001b[38;5;124m'\u001b[39m)\n",
      "File \u001b[0;32m/state/partition1/llgrid/pkg/anaconda/anaconda3-2023a/lib/python3.9/site-packages/pandas/util/_decorators.py:331\u001b[0m, in \u001b[0;36mdeprecate_nonkeyword_arguments.<locals>.decorate.<locals>.wrapper\u001b[0;34m(*args, **kwargs)\u001b[0m\n\u001b[1;32m    325\u001b[0m \u001b[38;5;28;01mif\u001b[39;00m \u001b[38;5;28mlen\u001b[39m(args) \u001b[38;5;241m>\u001b[39m num_allow_args:\n\u001b[1;32m    326\u001b[0m     warnings\u001b[38;5;241m.\u001b[39mwarn(\n\u001b[1;32m    327\u001b[0m         msg\u001b[38;5;241m.\u001b[39mformat(arguments\u001b[38;5;241m=\u001b[39m_format_argument_list(allow_args)),\n\u001b[1;32m    328\u001b[0m         \u001b[38;5;167;01mFutureWarning\u001b[39;00m,\n\u001b[1;32m    329\u001b[0m         stacklevel\u001b[38;5;241m=\u001b[39mfind_stack_level(),\n\u001b[1;32m    330\u001b[0m     )\n\u001b[0;32m--> 331\u001b[0m \u001b[38;5;28;01mreturn\u001b[39;00m \u001b[43mfunc\u001b[49m\u001b[43m(\u001b[49m\u001b[38;5;241;43m*\u001b[39;49m\u001b[43margs\u001b[49m\u001b[43m,\u001b[49m\u001b[43m \u001b[49m\u001b[38;5;241;43m*\u001b[39;49m\u001b[38;5;241;43m*\u001b[39;49m\u001b[43mkwargs\u001b[49m\u001b[43m)\u001b[49m\n",
      "File \u001b[0;32m/state/partition1/llgrid/pkg/anaconda/anaconda3-2023a/lib/python3.9/site-packages/pandas/core/reshape/concat.py:368\u001b[0m, in \u001b[0;36mconcat\u001b[0;34m(objs, axis, join, ignore_index, keys, levels, names, verify_integrity, sort, copy)\u001b[0m\n\u001b[1;32m    146\u001b[0m \u001b[38;5;129m@deprecate_nonkeyword_arguments\u001b[39m(version\u001b[38;5;241m=\u001b[39m\u001b[38;5;28;01mNone\u001b[39;00m, allowed_args\u001b[38;5;241m=\u001b[39m[\u001b[38;5;124m\"\u001b[39m\u001b[38;5;124mobjs\u001b[39m\u001b[38;5;124m\"\u001b[39m])\n\u001b[1;32m    147\u001b[0m \u001b[38;5;28;01mdef\u001b[39;00m \u001b[38;5;21mconcat\u001b[39m(\n\u001b[1;32m    148\u001b[0m     objs: Iterable[NDFrame] \u001b[38;5;241m|\u001b[39m Mapping[HashableT, NDFrame],\n\u001b[0;32m   (...)\u001b[0m\n\u001b[1;32m    157\u001b[0m     copy: \u001b[38;5;28mbool\u001b[39m \u001b[38;5;241m=\u001b[39m \u001b[38;5;28;01mTrue\u001b[39;00m,\n\u001b[1;32m    158\u001b[0m ) \u001b[38;5;241m-\u001b[39m\u001b[38;5;241m>\u001b[39m DataFrame \u001b[38;5;241m|\u001b[39m Series:\n\u001b[1;32m    159\u001b[0m \u001b[38;5;250m    \u001b[39m\u001b[38;5;124;03m\"\"\"\u001b[39;00m\n\u001b[1;32m    160\u001b[0m \u001b[38;5;124;03m    Concatenate pandas objects along a particular axis.\u001b[39;00m\n\u001b[1;32m    161\u001b[0m \n\u001b[0;32m   (...)\u001b[0m\n\u001b[1;32m    366\u001b[0m \u001b[38;5;124;03m    1   3   4\u001b[39;00m\n\u001b[1;32m    367\u001b[0m \u001b[38;5;124;03m    \"\"\"\u001b[39;00m\n\u001b[0;32m--> 368\u001b[0m     op \u001b[38;5;241m=\u001b[39m \u001b[43m_Concatenator\u001b[49m\u001b[43m(\u001b[49m\n\u001b[1;32m    369\u001b[0m \u001b[43m        \u001b[49m\u001b[43mobjs\u001b[49m\u001b[43m,\u001b[49m\n\u001b[1;32m    370\u001b[0m \u001b[43m        \u001b[49m\u001b[43maxis\u001b[49m\u001b[38;5;241;43m=\u001b[39;49m\u001b[43maxis\u001b[49m\u001b[43m,\u001b[49m\n\u001b[1;32m    371\u001b[0m \u001b[43m        \u001b[49m\u001b[43mignore_index\u001b[49m\u001b[38;5;241;43m=\u001b[39;49m\u001b[43mignore_index\u001b[49m\u001b[43m,\u001b[49m\n\u001b[1;32m    372\u001b[0m \u001b[43m        \u001b[49m\u001b[43mjoin\u001b[49m\u001b[38;5;241;43m=\u001b[39;49m\u001b[43mjoin\u001b[49m\u001b[43m,\u001b[49m\n\u001b[1;32m    373\u001b[0m \u001b[43m        \u001b[49m\u001b[43mkeys\u001b[49m\u001b[38;5;241;43m=\u001b[39;49m\u001b[43mkeys\u001b[49m\u001b[43m,\u001b[49m\n\u001b[1;32m    374\u001b[0m \u001b[43m        \u001b[49m\u001b[43mlevels\u001b[49m\u001b[38;5;241;43m=\u001b[39;49m\u001b[43mlevels\u001b[49m\u001b[43m,\u001b[49m\n\u001b[1;32m    375\u001b[0m \u001b[43m        \u001b[49m\u001b[43mnames\u001b[49m\u001b[38;5;241;43m=\u001b[39;49m\u001b[43mnames\u001b[49m\u001b[43m,\u001b[49m\n\u001b[1;32m    376\u001b[0m \u001b[43m        \u001b[49m\u001b[43mverify_integrity\u001b[49m\u001b[38;5;241;43m=\u001b[39;49m\u001b[43mverify_integrity\u001b[49m\u001b[43m,\u001b[49m\n\u001b[1;32m    377\u001b[0m \u001b[43m        \u001b[49m\u001b[43mcopy\u001b[49m\u001b[38;5;241;43m=\u001b[39;49m\u001b[43mcopy\u001b[49m\u001b[43m,\u001b[49m\n\u001b[1;32m    378\u001b[0m \u001b[43m        \u001b[49m\u001b[43msort\u001b[49m\u001b[38;5;241;43m=\u001b[39;49m\u001b[43msort\u001b[49m\u001b[43m,\u001b[49m\n\u001b[1;32m    379\u001b[0m \u001b[43m    \u001b[49m\u001b[43m)\u001b[49m\n\u001b[1;32m    381\u001b[0m     \u001b[38;5;28;01mreturn\u001b[39;00m op\u001b[38;5;241m.\u001b[39mget_result()\n",
      "File \u001b[0;32m/state/partition1/llgrid/pkg/anaconda/anaconda3-2023a/lib/python3.9/site-packages/pandas/core/reshape/concat.py:425\u001b[0m, in \u001b[0;36m_Concatenator.__init__\u001b[0;34m(self, objs, axis, join, keys, levels, names, ignore_index, verify_integrity, copy, sort)\u001b[0m\n\u001b[1;32m    422\u001b[0m     objs \u001b[38;5;241m=\u001b[39m \u001b[38;5;28mlist\u001b[39m(objs)\n\u001b[1;32m    424\u001b[0m \u001b[38;5;28;01mif\u001b[39;00m \u001b[38;5;28mlen\u001b[39m(objs) \u001b[38;5;241m==\u001b[39m \u001b[38;5;241m0\u001b[39m:\n\u001b[0;32m--> 425\u001b[0m     \u001b[38;5;28;01mraise\u001b[39;00m \u001b[38;5;167;01mValueError\u001b[39;00m(\u001b[38;5;124m\"\u001b[39m\u001b[38;5;124mNo objects to concatenate\u001b[39m\u001b[38;5;124m\"\u001b[39m)\n\u001b[1;32m    427\u001b[0m \u001b[38;5;28;01mif\u001b[39;00m keys \u001b[38;5;129;01mis\u001b[39;00m \u001b[38;5;28;01mNone\u001b[39;00m:\n\u001b[1;32m    428\u001b[0m     objs \u001b[38;5;241m=\u001b[39m \u001b[38;5;28mlist\u001b[39m(com\u001b[38;5;241m.\u001b[39mnot_none(\u001b[38;5;241m*\u001b[39mobjs))\n",
      "\u001b[0;31mValueError\u001b[0m: No objects to concatenate"
     ]
    }
   ],
   "source": [
    "results_temp = []\n",
    "\n",
    "for name_df,df in result_dict.items():\n",
    "    #if name_df in ['Baseline Imbalanced 1', 'Baseline Imbalanced 2', 'Baseline Balanced', 'Baseline full']:\n",
    "    if name_df == 'Baseline':\n",
    "            male_1, female_1, male_2, female_2 = df.loc['male_1', 'accuracy'], df.loc['female_1', 'accuracy'], df.loc['male_2', 'accuracy'], df.loc['female_2', 'accuracy']\n",
    "    \n",
    "            male_minus_female_1 = 100 * (male_1 - female_1)\n",
    "            male_minus_female_2 = 100 * (male_2 - female_2)\n",
    "\n",
    "            accuracy_parity_1 = abs(male_minus_female_1)\n",
    "            accuracy_parity_2 = abs(male_minus_female_2)\n",
    "\n",
    "            highest_accuracy_1 = 'male' if male_minus_female_1 > 0 else 'female'\n",
    "            highest_accuracy_2 = 'male' if male_minus_female_2 > 0 else 'female'\n",
    "\n",
    "            average_accuracy_1 = 100 * (df.loc['male_1', 'correct'] + df.loc['female_1', 'correct']) / (df.loc['male_1', 'count'] + df.loc['female_1', 'count'])\n",
    "            average_accuracy_2 = 100 * (df.loc['male_2', 'correct'] + df.loc['female_2', 'correct']) / (df.loc['male_2', 'count'] + df.loc['female_2', 'count'])\n",
    "            average_accuracy = 100 * (df.loc['male_1', 'correct'] + df.loc['female_1', 'correct'] + df.loc['male_2', 'correct'] + df.loc['female_2', 'correct']) / (df.loc['male_1', 'count'] + df.loc['female_1', 'count'] + df.loc['male_2', 'count'] + df.loc['female_2', 'count'])\n",
    "            \n",
    "            result_temp_df = pd.DataFrame({'Experiment': [name_df], \n",
    "                              'Average Accuracy': [average_accuracy],\n",
    "                              'Average Accuracy 1': [average_accuracy_1],\n",
    "                              'Average Accuracy 2': [average_accuracy_2],\n",
    "                              'Accuracy Parity 1': [accuracy_parity_1], \n",
    "                              'Accuracy Parity 2': [accuracy_parity_2],\n",
    "                              'Highest accuracy 1': [highest_accuracy_1],\n",
    "                              'Highest accuracy 2': [highest_accuracy_2],\n",
    "                             })\n",
    "            \n",
    "            results_temp.append(result_temp_df)\n",
    "            \n",
    "final_temp_df = pd.concat(results_temp).set_index('Experiment')"
   ]
  },
  {
   "cell_type": "code",
   "execution_count": 8,
   "id": "407cb0b0-15f1-40f4-9456-819cd304364b",
   "metadata": {},
   "outputs": [
    {
     "data": {
      "text/html": [
       "<div>\n",
       "<style scoped>\n",
       "    .dataframe tbody tr th:only-of-type {\n",
       "        vertical-align: middle;\n",
       "    }\n",
       "\n",
       "    .dataframe tbody tr th {\n",
       "        vertical-align: top;\n",
       "    }\n",
       "\n",
       "    .dataframe thead th {\n",
       "        text-align: right;\n",
       "    }\n",
       "</style>\n",
       "<table border=\"1\" class=\"dataframe\">\n",
       "  <thead>\n",
       "    <tr style=\"text-align: right;\">\n",
       "      <th></th>\n",
       "      <th>Average Accuracy</th>\n",
       "      <th>Average Accuracy 1</th>\n",
       "      <th>Average Accuracy 2</th>\n",
       "      <th>Accuracy Parity 1</th>\n",
       "      <th>Accuracy Parity 2</th>\n",
       "      <th>Highest accuracy 1</th>\n",
       "      <th>Highest accuracy 2</th>\n",
       "    </tr>\n",
       "    <tr>\n",
       "      <th>Experiment</th>\n",
       "      <th></th>\n",
       "      <th></th>\n",
       "      <th></th>\n",
       "      <th></th>\n",
       "      <th></th>\n",
       "      <th></th>\n",
       "      <th></th>\n",
       "    </tr>\n",
       "  </thead>\n",
       "  <tbody>\n",
       "    <tr>\n",
       "      <th>Baseline</th>\n",
       "      <td>25.968007</td>\n",
       "      <td>26.738883</td>\n",
       "      <td>25.117887</td>\n",
       "      <td>1.489218</td>\n",
       "      <td>5.201586</td>\n",
       "      <td>male</td>\n",
       "      <td>female</td>\n",
       "    </tr>\n",
       "  </tbody>\n",
       "</table>\n",
       "</div>"
      ],
      "text/plain": [
       "            Average Accuracy  Average Accuracy 1  Average Accuracy 2  \\\n",
       "Experiment                                                             \n",
       "Baseline           25.968007           26.738883           25.117887   \n",
       "\n",
       "            Accuracy Parity 1  Accuracy Parity 2 Highest accuracy 1  \\\n",
       "Experiment                                                            \n",
       "Baseline             1.489218           5.201586               male   \n",
       "\n",
       "           Highest accuracy 2  \n",
       "Experiment                     \n",
       "Baseline               female  "
      ]
     },
     "execution_count": 8,
     "metadata": {},
     "output_type": "execute_result"
    }
   ],
   "source": [
    "final_temp_df"
   ]
  },
  {
   "cell_type": "code",
   "execution_count": 9,
   "id": "03ae5306-145c-4104-8fa9-e1c7bc602408",
   "metadata": {},
   "outputs": [],
   "source": [
    "results = []\n",
    "\n",
    "for name, df in result_dict.items():\n",
    "    male_1, female_1, male_2, female_2 = df.loc['male_1', 'accuracy'], df.loc['female_1', 'accuracy'], df.loc['male_2', 'accuracy'], df.loc['female_2', 'accuracy']\n",
    "    \n",
    "    male_minus_female_1 = 100 * (male_1 - female_1)\n",
    "    male_minus_female_2 = 100 * (male_2 - female_2)\n",
    "    \n",
    "    accuracy_parity_1 = abs(male_minus_female_1)\n",
    "    accuracy_parity_2 = abs(male_minus_female_2)\n",
    "    \n",
    "    highest_accuracy_1 = 'male' if male_minus_female_1 > 0 else 'female'\n",
    "    highest_accuracy_2 = 'male' if male_minus_female_2 > 0 else 'female'\n",
    "    \n",
    "    average_accuracy_1 = 100 * (df.loc['male_1', 'correct'] + df.loc['female_1', 'correct']) / (df.loc['male_1', 'count'] + df.loc['female_1', 'count'])\n",
    "    average_accuracy_2 = 100 * (df.loc['male_2', 'correct'] + df.loc['female_2', 'correct']) / (df.loc['male_2', 'count'] + df.loc['female_2', 'count'])\n",
    "    average_accuracy = 100 * (df.loc['male_1', 'correct'] + df.loc['female_1', 'correct'] + df.loc['male_2', 'correct'] + df.loc['female_2', 'correct']) / (df.loc['male_1', 'count'] + df.loc['female_1', 'count'] + df.loc['male_2', 'count'] + df.loc['female_2', 'count'])\n",
    "\n",
    "    percentage_accuracy = (average_accuracy - final_temp_df.loc['Baseline', 'Average Accuracy']) \n",
    "    percentage_ap_1 = (accuracy_parity_1 - final_temp_df.loc['Baseline', 'Accuracy Parity 1']) \n",
    "    percentage_ap_2 = (accuracy_parity_2 - final_temp_df.loc['Baseline', 'Accuracy Parity 2']) \n",
    "    \n",
    "    \n",
    "    result_df = pd.DataFrame({'Experiment': [name], \n",
    "                              'Average Accuracy': [average_accuracy],\n",
    "                              'Average Accuracy 1': [average_accuracy_1],\n",
    "                              'Average Accuracy 2': [average_accuracy_2],\n",
    "                              'Accuracy Parity 1': [accuracy_parity_1], \n",
    "                              'Accuracy Parity 2': [accuracy_parity_2],\n",
    "                              'Highest accuracy 1': [highest_accuracy_1],\n",
    "                              'Highest accuracy 2': [highest_accuracy_2],\n",
    "                              'Accuracy change to Baseline': [percentage_accuracy],\n",
    "                              'Accuracy Parity 1 change to Baseline': [percentage_ap_1],\n",
    "                              'Accuracy Parity 2 change to Baseline': [percentage_ap_2],\n",
    "                             })\n",
    "    results.append(result_df)\n",
    "    \n",
    "final_df = pd.concat(results).reset_index(drop=True)"
   ]
  },
  {
   "cell_type": "code",
   "execution_count": 38,
   "id": "b72c7460-4c02-4f21-a7e5-3b080042fa4c",
   "metadata": {},
   "outputs": [],
   "source": [
    "df_balanced = final_df[final_df['Experiment'].isin(['Baseline Balanced', 'CBM Dense Balanced', 'CBM Sparse Balanced', 'CBM Dense Balanced Gender', 'CBM Sparse Balanced Gender'])]\n",
    "df_imbalanced_1 = final_df[final_df['Experiment'].isin(['Baseline Imbalanced 1', 'CBM Dense Imbalanced 1', 'CBM Sparse Imbalanced 1', 'CBM Dense Imbalanced 1 Gender', 'CBM Sparse Imbalanced 1 Gender'])]\n",
    "df_imbalanced_2 = final_df[final_df['Experiment'].isin(['Baseline Imbalanced 2', 'CBM Dense Imbalanced 2', 'CBM Sparse Imbalanced 2', 'CBM Dense Imbalanced 2 Gender', 'CBM Sparse Imbalanced 2 Gender'])]\n",
    "df_full = final_df[final_df['Experiment'].isin(['Baseline full', 'CBM Sparse full', 'CBM Dense full', 'CBM Sparse full gender', 'CBM Dense full gender'])]"
   ]
  },
  {
   "cell_type": "code",
   "execution_count": 14,
   "id": "e017f26a-ee73-4abb-b72b-e64cd3111e3a",
   "metadata": {},
   "outputs": [],
   "source": [
    "result_dict['Comparison Metrics'] = final_df"
   ]
  },
  {
   "cell_type": "code",
   "execution_count": 39,
   "id": "b5e2be14-42d1-45a1-b023-f27b7d7dfaf5",
   "metadata": {},
   "outputs": [],
   "source": [
    "result_dict['Comparison Metrics'] = final_df\n",
    "result_dict['Comparison Metrics Balanced'] = df_balanced\n",
    "result_dict['Comparison Metrics Imbalanced 1'] = df_imbalanced_1\n",
    "result_dict['Comparison Metrics Imbalanced 2'] = df_imbalanced_2\n",
    "result_dict['Comparison Metrics full'] = df_full"
   ]
  },
  {
   "cell_type": "code",
   "execution_count": 15,
   "id": "9715727f-b06c-4834-9b9d-41ac1489ea4b",
   "metadata": {},
   "outputs": [],
   "source": [
    "with pd.ExcelWriter(Path.cwd() / 'results' / 'imSitu' / '200_verbs_full' / 'results_full.xlsx') as writer:\n",
    "    for name, df in result_dict.items():\n",
    "        df.to_excel(writer, sheet_name=name, index=False)"
   ]
  },
  {
   "cell_type": "markdown",
   "id": "1e562ef3-4f52-4cea-ad7d-602f6aada245",
   "metadata": {},
   "source": [
    "## Data Analysis"
   ]
  },
  {
   "cell_type": "code",
   "execution_count": 11,
   "id": "d2a3aca1-5083-4d5a-8e56-5fdbde1173fd",
   "metadata": {},
   "outputs": [
    {
     "ename": "KeyError",
     "evalue": "'Comparison Metrics'",
     "output_type": "error",
     "traceback": [
      "\u001b[0;31m---------------------------------------------------------------------------\u001b[0m",
      "\u001b[0;31mKeyError\u001b[0m                                  Traceback (most recent call last)",
      "Cell \u001b[0;32mIn[11], line 1\u001b[0m\n\u001b[0;32m----> 1\u001b[0m df \u001b[38;5;241m=\u001b[39m \u001b[43mresult_dict\u001b[49m\u001b[43m[\u001b[49m\u001b[38;5;124;43m'\u001b[39;49m\u001b[38;5;124;43mComparison Metrics\u001b[39;49m\u001b[38;5;124;43m'\u001b[39;49m\u001b[43m]\u001b[49m\n",
      "\u001b[0;31mKeyError\u001b[0m: 'Comparison Metrics'"
     ]
    }
   ],
   "source": [
    "df = result_dict['Comparison Metrics']"
   ]
  },
  {
   "cell_type": "code",
   "execution_count": 12,
   "id": "1c60bd43-fca3-45c3-b124-c70c1d14bbe5",
   "metadata": {},
   "outputs": [
    {
     "data": {
      "text/html": [
       "<div>\n",
       "<style scoped>\n",
       "    .dataframe tbody tr th:only-of-type {\n",
       "        vertical-align: middle;\n",
       "    }\n",
       "\n",
       "    .dataframe tbody tr th {\n",
       "        vertical-align: top;\n",
       "    }\n",
       "\n",
       "    .dataframe thead th {\n",
       "        text-align: right;\n",
       "    }\n",
       "</style>\n",
       "<table border=\"1\" class=\"dataframe\">\n",
       "  <thead>\n",
       "    <tr style=\"text-align: right;\">\n",
       "      <th></th>\n",
       "      <th>accuracy</th>\n",
       "      <th>correct</th>\n",
       "      <th>count</th>\n",
       "    </tr>\n",
       "  </thead>\n",
       "  <tbody>\n",
       "    <tr>\n",
       "      <th>male_1</th>\n",
       "      <td>0.326371</td>\n",
       "      <td>625.0</td>\n",
       "      <td>1915.0</td>\n",
       "    </tr>\n",
       "    <tr>\n",
       "      <th>male_2</th>\n",
       "      <td>0.270672</td>\n",
       "      <td>455.0</td>\n",
       "      <td>1681.0</td>\n",
       "    </tr>\n",
       "    <tr>\n",
       "      <th>female_1</th>\n",
       "      <td>0.330822</td>\n",
       "      <td>527.0</td>\n",
       "      <td>1593.0</td>\n",
       "    </tr>\n",
       "    <tr>\n",
       "      <th>female_2</th>\n",
       "      <td>0.326667</td>\n",
       "      <td>490.0</td>\n",
       "      <td>1500.0</td>\n",
       "    </tr>\n",
       "  </tbody>\n",
       "</table>\n",
       "</div>"
      ],
      "text/plain": [
       "          accuracy  correct   count\n",
       "male_1    0.326371    625.0  1915.0\n",
       "male_2    0.270672    455.0  1681.0\n",
       "female_1  0.330822    527.0  1593.0\n",
       "female_2  0.326667    490.0  1500.0"
      ]
     },
     "execution_count": 12,
     "metadata": {},
     "output_type": "execute_result"
    }
   ],
   "source": [
    "df"
   ]
  },
  {
   "cell_type": "code",
   "execution_count": 15,
   "id": "2b1cd906-a1b6-4d47-af0b-e34f14c3bed9",
   "metadata": {},
   "outputs": [],
   "source": [
    "metrics = ['Accuracy change to Baseline\t', 'Accuracy Parity 1 change to Baseline', 'Accuracy Parity 2 change to Baseline']\n",
    "\n",
    "balanced = ['CBM Dense Balanced', 'CBM Sparse Balanced', 'CBM Dense Balanced Gender', 'CBM Sparse Balanced Gender']\n",
    "imbalanced_1 = ['CBM Dense Imbalanced 1', 'CBM Sparse Imbalanced 1', 'CBM Dense Imbalanced 1 Gender', 'CBM Sparse Imbalanced 1 Gender']\n",
    "imbalanced_2 = ['CBM Dense Imbalanced 2', 'CBM Sparse Imbalanced 2', 'CBM Dense Imbalanced 2 Gender', 'CBM Sparse Imbalanced 2 Gender']"
   ]
  },
  {
   "cell_type": "code",
   "execution_count": null,
   "id": "82db74c7-5ff1-497b-a1d0-3f94834f99c3",
   "metadata": {},
   "outputs": [],
   "source": [
    "result = {}\n",
    "\n",
    "\n",
    "for experiment in balanced:\n",
    "    result_experiment = {'Experiment': experiment}\n",
    "    for metric in metrics:\n",
    "        baseline_value = df.loc['Baseline Balanced', metric]\n",
    "        experiment_value = df.loc[experiment, metric]\n",
    "        percentage_change = (baseline_value - experiment_value) / (baseline_value)\n",
    "        result_experiment[experiment] "
   ]
  },
  {
   "cell_type": "code",
   "execution_count": null,
   "id": "fb5414fe-ef74-4382-9e26-a42df508768c",
   "metadata": {},
   "outputs": [],
   "source": []
  },
  {
   "cell_type": "code",
   "execution_count": 1,
   "id": "a22def9d-5b6e-4d12-b10c-1c17ec085ea4",
   "metadata": {},
   "outputs": [
    {
     "ename": "NameError",
     "evalue": "name 'Path' is not defined",
     "output_type": "error",
     "traceback": [
      "\u001b[0;31m---------------------------------------------------------------------------\u001b[0m",
      "\u001b[0;31mNameError\u001b[0m                                 Traceback (most recent call last)",
      "Cell \u001b[0;32mIn[1], line 1\u001b[0m\n\u001b[0;32m----> 1\u001b[0m path_result \u001b[38;5;241m=\u001b[39m \u001b[43mPath\u001b[49m(\u001b[38;5;124m'\u001b[39m\u001b[38;5;124mresults/imSitu/custom/CBM_imSitu_200_full\u001b[39m\u001b[38;5;124m'\u001b[39m)\n\u001b[1;32m      3\u001b[0m path_balanced \u001b[38;5;241m=\u001b[39m path_result \u001b[38;5;241m/\u001b[39m \u001b[38;5;124m'\u001b[39m\u001b[38;5;124mimSitu_200_balanced\u001b[39m\u001b[38;5;124m'\u001b[39m\n\u001b[1;32m      4\u001b[0m path_imbalanced_1 \u001b[38;5;241m=\u001b[39m path_result \u001b[38;5;241m/\u001b[39m \u001b[38;5;124m'\u001b[39m\u001b[38;5;124mimSitu_200_imbalanced_1\u001b[39m\u001b[38;5;124m'\u001b[39m\n",
      "\u001b[0;31mNameError\u001b[0m: name 'Path' is not defined"
     ]
    }
   ],
   "source": [
    "path_result = Path('results/imSitu/custom/CBM_imSitu_200_full')\n",
    "\n",
    "path_balanced = path_result / 'imSitu_200_balanced'\n",
    "path_imbalanced_1 = path_result / 'imSitu_200_imbalanced_1'\n",
    "path_imbalanced_2 = path_result / 'imSitu_200_imbalanced_2'\n",
    "path_male = path_result / 'imSitu_200_male'\n",
    "path_female = path_result / 'imSitu_200_female'"
   ]
  },
  {
   "cell_type": "code",
   "execution_count": null,
   "id": "17a83163-fcd7-45aa-944a-5b3a0c8c88a1",
   "metadata": {},
   "outputs": [],
   "source": []
  }
 ],
 "metadata": {
  "kernelspec": {
   "display_name": "Python 3 (ipykernel)",
   "language": "python",
   "name": "python3"
  },
  "language_info": {
   "codemirror_mode": {
    "name": "ipython",
    "version": 3
   },
   "file_extension": ".py",
   "mimetype": "text/x-python",
   "name": "python",
   "nbconvert_exporter": "python",
   "pygments_lexer": "ipython3",
   "version": "3.9.15"
  }
 },
 "nbformat": 4,
 "nbformat_minor": 5
}
