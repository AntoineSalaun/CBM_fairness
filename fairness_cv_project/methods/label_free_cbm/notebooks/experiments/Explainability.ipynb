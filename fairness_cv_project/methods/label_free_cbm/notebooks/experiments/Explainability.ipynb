{
 "cells": [
  {
   "cell_type": "code",
   "execution_count": 1,
   "id": "b4a84d8a-8715-437b-a314-1c190d0406e9",
   "metadata": {},
   "outputs": [],
   "source": [
    "import sys\n",
    "from pathlib import Path\n",
    "import os \n",
    "sys.path.append('/home/gridsan/vyuan/.local/lib/python3.9/site-packages/')\n",
    "\n",
    "current_path = Path.cwd()\n",
    "\n",
    "# Go to top of the root and append\n",
    "root = current_path.parents[4]\n",
    "sys.path.append(str(root))\n",
    "\n",
    "os.chdir(root)"
   ]
  },
  {
   "cell_type": "code",
   "execution_count": 2,
   "id": "d0a46283-2d51-41be-8360-558cb8e031b6",
   "metadata": {},
   "outputs": [],
   "source": [
    "import torch\n",
    "import os\n",
    "import random\n",
    "import json\n",
    "from pathlib import Path\n",
    "\n",
    "import pandas as pd\n",
    "\n",
    "from fairness_cv_project.methods.label_free_cbm.src.plots import plots\n",
    "from fairness_cv_project.methods.label_free_cbm.src.utils import data_utils, utils\n",
    "from fairness_cv_project.methods.label_free_cbm.src.models import cbm"
   ]
  },
  {
   "cell_type": "code",
   "execution_count": 3,
   "id": "855bc66c-2005-4a34-bb62-cd320d7541ec",
   "metadata": {},
   "outputs": [],
   "source": [
    "# change this to the correct model dir, everything else should be taken care of\n",
    "load_dir = \"saved_models/imSitu/30_verbs/CBM/sparse/imbalanced_2/imSitu_30_imbalanced_2_imSitu_30_filtered\"\n",
    "path_model_dir = root / load_dir\n",
    "device = \"cuda\" if torch.cuda.is_available() else 'cpu'\n",
    "\n",
    "\n",
    "with open(root / os.path.join(load_dir, \"args.txt\"), \"r\") as f:\n",
    "    args = json.load(f)\n",
    "    \n",
    "dataset = args[\"dataset\"]\n",
    "_, target_preprocess = data_utils.get_target_model(args[\"backbone\"], device, root)\n",
    "model = cbm.load_cbm(path_model_dir, device)"
   ]
  },
  {
   "cell_type": "code",
   "execution_count": 4,
   "id": "94bc5fd3-f938-45b2-98ff-995c61348c3e",
   "metadata": {},
   "outputs": [],
   "source": [
    "val_d_probe = dataset+\"_val\"\n",
    "cls_file = data_utils.LABEL_FILES[dataset]\n",
    "\n",
    "val_data_t = data_utils.get_data(val_d_probe, preprocess=target_preprocess)\n",
    "val_pil_data = data_utils.get_data(val_d_probe)"
   ]
  },
  {
   "cell_type": "code",
   "execution_count": 5,
   "id": "c20e8f59-d315-49c3-8dcd-2a9fbf5127a9",
   "metadata": {},
   "outputs": [],
   "source": [
    "with open(cls_file, \"r\") as f:\n",
    "    classes = f.read().split(\"\\n\")\n",
    "\n",
    "with open(os.path.join(load_dir, \"concepts.txt\"), \"r\") as f:\n",
    "    concepts = f.read().split(\"\\n\")"
   ]
  },
  {
   "cell_type": "code",
   "execution_count": 6,
   "id": "5adbe6a7-a326-48a8-99a5-eb4a0d86f21f",
   "metadata": {},
   "outputs": [],
   "source": [
    "def print_weights(classes, list_verbs):\n",
    "    for verb in list_verbs:\n",
    "        i = classes.index(verb)\n",
    "        print(\"Output class:{} - {}\".format(i, verb))\n",
    "        print(\"Incoming weights:\")\n",
    "        for j in range(len(concepts)):\n",
    "                print(\"{} [{:.4f}] {}\".format(concepts[j], model.final.weight[i,j], classes[i]))\n",
    "                \n",
    "def save_weights_to_excel(classes, model, concepts, file_name='weights_sparse_imbalanced_2_gender.xlsx'):\n",
    "    with pd.ExcelWriter(file_name) as writer:  \n",
    "        all_weights = []\n",
    "        for verb in classes:\n",
    "            i = classes.index(verb)\n",
    "            data = []\n",
    "            for j in range(len(concepts)):\n",
    "                if torch.abs(model.final.weight[i,j])>0.01:\n",
    "                    data.append({\"Concept\": concepts[j], \"Weight\": model.final.weight[i,j].item(), \"Class\": classes[i]})\n",
    "            df = pd.DataFrame(data)\n",
    "            df.sort_values(['Class', 'Weight'], ascending=[True, False], inplace=True)\n",
    "            df.to_excel(writer, sheet_name=verb, index=False)\n",
    "            all_weights.append(df)\n",
    "        \n",
    "        # For the first sheet, concatenate all dataframes and write to the sheet\n",
    "        pd.concat(all_weights).to_excel(writer, sheet_name='All Weights', index=False)"
   ]
  }
 ],
 "metadata": {
  "kernelspec": {
   "display_name": "Python 3 (ipykernel)",
   "language": "python",
   "name": "python3"
  },
  "language_info": {
   "codemirror_mode": {
    "name": "ipython",
    "version": 3
   },
   "file_extension": ".py",
   "mimetype": "text/x-python",
   "name": "python",
   "nbconvert_exporter": "python",
   "pygments_lexer": "ipython3",
   "version": "3.9.15"
  }
 },
 "nbformat": 4,
 "nbformat_minor": 5
}
