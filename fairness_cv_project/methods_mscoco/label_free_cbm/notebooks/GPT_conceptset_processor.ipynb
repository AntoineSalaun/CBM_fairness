{
 "cells": [
  {
   "cell_type": "code",
   "execution_count": 1,
   "id": "3aeb85e4-a684-4466-b92f-1b3afec781d5",
   "metadata": {},
   "outputs": [],
   "source": [
    "import sys\n",
    "from pathlib import Path\n",
    "import os \n",
    "# sys.path.append('/home/gridsan/vyuan/.local/lib/python3.9/site-packages/')\n",
    "\n",
    "current_path = Path.cwd()\n",
    "\n",
    "# Go to top of the root and append\n",
    "root = current_path.parents[3]\n",
    "sys.path.append(str(root))\n",
    "\n",
    "os.chdir(root)"
   ]
  },
  {
   "cell_type": "code",
   "execution_count": 2,
   "id": "8eecb485-7dc5-441e-8d38-2221e75981ef",
   "metadata": {},
   "outputs": [],
   "source": [
    "import json\n",
    "\n",
    "from fairness_cv_project.methods_mscoco.label_free_cbm.src.utils import data_utils\n",
    "from fairness_cv_project.methods_mscoco.label_free_cbm.src.utils import conceptset_utils"
   ]
  },
  {
   "cell_type": "code",
   "execution_count": 3,
   "id": "ec09e8bc-a9ca-4821-98e6-b1994493da22",
   "metadata": {},
   "outputs": [],
   "source": [
    "\"\"\"\n",
    "CLASS_SIM_CUTOFF: Concenpts with cos similarity higher than this to any class will be removed\n",
    "OTHER_SIM_CUTOFF: Concenpts with cos similarity higher than this to another concept will be removed\n",
    "MAX_LEN: max number of characters in a concept\n",
    "\n",
    "PRINT_PROB: what percentage of filtered concepts will be printed\n",
    "\"\"\"\n",
    "\n",
    "CLASS_SIM_CUTOFF = 0.85\n",
    "OTHER_SIM_CUTOFF = 0.9\n",
    "MAX_LEN = 30\n",
    "PRINT_PROB = 1\n",
    "\n",
    "dataset = \"mscoco_single\"\n",
    "device = \"cpu\""
   ]
  },
  {
   "cell_type": "code",
   "execution_count": 4,
   "id": "8f98f951-32e8-40af-90d9-a06042126810",
   "metadata": {},
   "outputs": [
    {
     "name": "stdout",
     "output_type": "stream",
     "text": [
      "228\n"
     ]
    }
   ],
   "source": [
    "# CASE 1: You just generated concepts from GPT\n",
    "# EDIT these to use the initial concept sets you want\n",
    "\n",
    "save_name = \"data/concept_sets/{}_filtered.txt\".format(dataset)\n",
    "\n",
    "with open(root / \"data/concept_sets/gpt3_init/gpt3_{}_important.json\".format(dataset), \"r\") as f:\n",
    "    important_dict = json.load(f)\n",
    "with open(root / \"data/concept_sets/gpt3_init/gpt3_{}_superclass.json\".format(dataset), \"r\") as f:\n",
    "    superclass_dict = json.load(f)\n",
    "with open(root / \"data/concept_sets/gpt3_init/gpt3_{}_around.json\".format(dataset), \"r\") as f:\n",
    "    around_dict = json.load(f)\n",
    "with open(root / \"data/concept_sets/gpt3_init/gpt3_{}_job.json\".format(dataset), \"r\") as f:\n",
    "    job_dict = json.load(f)\n",
    "    \n",
    "with open(root / data_utils.LABEL_FILES[dataset], \"r\") as f:\n",
    "    classes = f.read().split(\"\\n\")\n",
    "    \n",
    "concepts = set()\n",
    "\n",
    "for values in important_dict.values():\n",
    "    concepts.update(set(values))\n",
    "\n",
    "for values in superclass_dict.values():\n",
    "    concepts.update(set(values))\n",
    "    \n",
    "for values in around_dict.values():\n",
    "    concepts.update(set(values))\n",
    "    \n",
    "for values in job_dict.values():\n",
    "   concepts.update(set(values))\n",
    "\n",
    "print(len(concepts))"
   ]
  },
  {
   "cell_type": "code",
   "execution_count": 5,
   "id": "53aace54-77bf-40cf-a819-4f4612e51c2c",
   "metadata": {},
   "outputs": [],
   "source": [
    "# CASE 2: Read another concept set, and filter it\n",
    "\n",
    "save_name = \"data/concept_sets/{}_augmented_filtered.txt\".format(dataset)\n",
    "\n",
    "# with open(root / 'data' / 'concept_sets' / 'mscoco_single_augmented.txt') as f:\n",
    "#     concepts = set(f.read().split(\"\\n\"))\n",
    "    \n",
    "with open(root / data_utils.LABEL_FILES[dataset], \"r\") as f:\n",
    "    classes = f.read().split(\"\\n\")\n",
    "    "
   ]
  },
  {
   "cell_type": "code",
   "execution_count": 6,
   "id": "b14c878e-d6f8-47fd-9322-85d14dfbdaa8",
   "metadata": {},
   "outputs": [
    {
     "name": "stdout",
     "output_type": "stream",
     "text": [
      "37 a small, round head on the other side\n",
      "37 a neck that is narrower than the body\n",
      "34 decorations or graphics on the top\n",
      "39 four round, cylindrical shapes (wheels)\n",
      "39 bindings for attaching to feet or boots\n",
      "33 can be different shapes and sizes\n",
      "47 a network of strings stretched across the frame\n",
      "33 a stringed grid across the middle\n",
      "32 usually made of glass or plastic\n",
      "228 219\n"
     ]
    }
   ],
   "source": [
    "concepts = conceptset_utils.remove_too_long(concepts, MAX_LEN, PRINT_PROB)"
   ]
  },
  {
   "cell_type": "code",
   "execution_count": 7,
   "id": "d27e7a88-bdd4-49cb-b74d-fd16866eb5e0",
   "metadata": {},
   "outputs": [
    {
     "name": "stdout",
     "output_type": "stream",
     "text": [
      "219\n",
      "Class:tennis racket - Deleting a tennis racket\n",
      "Class:chair - Deleting a chair\n",
      "Class:cell phone - Deleting a cell phone\n",
      "Class:surfboard - Deleting a surfboard\n",
      "Class:bottle - Deleting a bottle\n",
      "Class:horse - Deleting a horse\n",
      "Class:bed - Deleting a bed\n",
      "Class:car - Deleting a car\n",
      "Class:couch - Deleting a couch\n",
      "210\n",
      "Class:tennis racket - Concept:racket, sim:0.886 - Deleting racket\n",
      "\n",
      "Class:tennis racket - Concept:racquet, sim:0.883 - Deleting racquet\n",
      "\n",
      "Class:chair - Concept:a seat, sim:0.870 - Deleting a seat\n",
      "\n",
      "Class:cell phone - Concept:a phone, sim:0.898 - Deleting a phone\n",
      "\n",
      "Class:cell phone - Concept:phone, sim:0.911 - Deleting phone\n",
      "\n",
      "Class:bottle - Concept:a bottle of water, sim:0.862 - Deleting a bottle of water\n",
      "\n",
      "Class:bottle - Concept:bottles, sim:0.939 - Deleting bottles\n",
      "\n",
      "Class:skis - Concept:a ski, sim:0.881 - Deleting a ski\n",
      "\n",
      "Class:car - Concept:a vehicle, sim:0.880 - Deleting a vehicle\n",
      "\n",
      "Class:car - Concept:other cars, sim:0.853 - Deleting other cars\n",
      "\n",
      "Class:car - Concept:vehicle, sim:0.909 - Deleting vehicle\n",
      "\n",
      "Class:couch - Concept:a sofa, sim:0.856 - Deleting a sofa\n",
      "\n",
      "198\n"
     ]
    }
   ],
   "source": [
    "concepts = conceptset_utils.filter_too_similar_to_cls(concepts, classes, CLASS_SIM_CUTOFF, device, PRINT_PROB)"
   ]
  },
  {
   "cell_type": "code",
   "execution_count": 8,
   "id": "3161dcfb-f9ec-4775-9b80-d8042c4f9f32",
   "metadata": {},
   "outputs": [
    {
     "name": "stdout",
     "output_type": "stream",
     "text": [
      "A ski lift - a ski lift , sim:1.0000 - Deleting a ski lift\n",
      "A ski resort - a ski resort , sim:1.0000 - Deleting a ski resort\n",
      "A ski slope - a ski slope , sim:1.0000 - Deleting a ski slope\n",
      "a backrest - a comfortable backrest , sim:0.9495 - Deleting a comfortable backrest\n",
      "a board - board , sim:0.9483 - Deleting board\n",
      "a bottle of beer - a bottle of wine , sim:0.9084 - Deleting a bottle of beer\n",
      "a conveyer belt - a conveyor belt , sim:0.9851 - Deleting a conveyer belt\n",
      "a display screen - a screen , sim:0.9184 - Deleting a display screen\n",
      "a handle on one side - two handles on the sides , sim:0.9174 - Deleting two handles on the sides\n",
      "a keyboard - a keyboard or touchscreen , sim:0.9005 - Deleting a keyboard or touchscreen\n",
      "a label - a labels , sim:0.9360 - Deleting a labels\n",
      "a large, rectangular body - a large, rectangular shape , sim:0.9316 - Deleting a large, rectangular body\n",
      "a large, rectangular shape - a long, rectangular body , sim:0.9047 - Deleting a long, rectangular body\n",
      "a large, rectangular shape - a small, rectangular shape , sim:0.9593 - Deleting a large, rectangular shape\n",
      "a long, narrow shape - a long, slender shape , sim:0.9426 - Deleting a long, narrow shape\n",
      "a long, slender shape - a long, thin shape , sim:0.9585 - Deleting a long, slender shape\n",
      "a machine - machines , sim:0.9109 - Deleting machines\n",
      "a remote - a remote control , sim:0.9614 - Deleting a remote control\n",
      "a steering wheel - a steering wheel in the front , sim:0.9522 - Deleting a steering wheel in the front\n",
      "a wave - waves , sim:0.9237 - Deleting waves\n",
      "a wet suit - a wetsuit , sim:0.9581 - Deleting a wet suit\n",
      "an earphone - earphones , sim:0.9029 - Deleting earphones\n",
      "armrests (optional) - armrests on either side , sim:0.9075 - Deleting armrests on either side\n",
      "four legs - three or more legs , sim:0.9067 - Deleting three or more legs\n",
      "sport equipment - sports equipment , sim:0.9840 - Deleting sport equipment\n",
      "173\n"
     ]
    }
   ],
   "source": [
    "concepts = conceptset_utils.filter_too_similar(concepts, OTHER_SIM_CUTOFF, device, PRINT_PROB)"
   ]
  },
  {
   "cell_type": "code",
   "execution_count": 9,
   "id": "6d7db95f-3391-4609-b3b4-96f234e972b0",
   "metadata": {},
   "outputs": [],
   "source": [
    "with open(save_name, \"w\") as f:\n",
    "    f.write(concepts[0])\n",
    "    for concept in concepts[1:]:\n",
    "        f.write(\"\\n\" + concept)"
   ]
  },
  {
   "cell_type": "code",
   "execution_count": 10,
   "id": "c2e260f0-709a-485a-baa2-4c2076b1d1fe",
   "metadata": {},
   "outputs": [
    {
     "data": {
      "text/plain": [
       "'data/concept_sets/mscoco_single_augmented_filtered.txt'"
      ]
     },
     "execution_count": 10,
     "metadata": {},
     "output_type": "execute_result"
    }
   ],
   "source": [
    "save_name"
   ]
  },
  {
   "cell_type": "code",
   "execution_count": null,
   "id": "fbd460cd-9400-4306-9f24-16889d366eb8",
   "metadata": {},
   "outputs": [],
   "source": []
  }
 ],
 "metadata": {
  "kernelspec": {
   "display_name": "Python 3 (ipykernel)",
   "language": "python",
   "name": "python3"
  },
  "language_info": {
   "codemirror_mode": {
    "name": "ipython",
    "version": 3
   },
   "file_extension": ".py",
   "mimetype": "text/x-python",
   "name": "python",
   "nbconvert_exporter": "python",
   "pygments_lexer": "ipython3",
   "version": "3.9.15"
  }
 },
 "nbformat": 4,
 "nbformat_minor": 5
}
